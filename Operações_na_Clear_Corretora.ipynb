{
  "nbformat": 4,
  "nbformat_minor": 0,
  "metadata": {
    "colab": {
      "name": "Operações na Clear Corretora.ipynb",
      "provenance": [],
      "collapsed_sections": [],
      "authorship_tag": "ABX9TyNSTQBanklt8BhabA7+B6iY",
      "include_colab_link": true
    },
    "kernelspec": {
      "name": "python3",
      "display_name": "Python 3"
    }
  },
  "cells": [
    {
      "cell_type": "markdown",
      "metadata": {
        "id": "view-in-github",
        "colab_type": "text"
      },
      "source": [
        "<a href=\"https://colab.research.google.com/github/ElioAlmiron/Starting_repository/blob/main/Opera%C3%A7%C3%B5es_na_Clear_Corretora.ipynb\" target=\"_parent\"><img src=\"https://colab.research.google.com/assets/colab-badge.svg\" alt=\"Open In Colab\"/></a>"
      ]
    },
    {
      "cell_type": "markdown",
      "metadata": {
        "id": "jc9E1xikxUCU"
      },
      "source": [
        "#**Extração de dados para declaração de imposto de renda de Notas de Corretagem - Clear Corretora**"
      ]
    },
    {
      "cell_type": "markdown",
      "metadata": {
        "id": "Gy_f8dnZt9bh"
      },
      "source": [
        "Todo início de ano é necessário fazer a declaração de imposto de renda. E é uma das atividades mais chatas desse período - pior que pegar congestionamento na volta do Carvanal, que nos toma um bom tempo e nos gera certo stress. Sempre há o risco de fazer a declaração incorretamente e, como consequência, cair na malha fina da Receita Federal. E para quem opera investe em ações, há um ponto adicional: inserir as operações realizadas no ano fiscal. Para isso, é recomendado planilhar cada uma dessas transações para facilitar a declaração. \r\n",
        "\r\n",
        "\r\n",
        "Desse modo, montei um programa em Python que lê cada uma das Notas de Negociação e exporta cada uma das informações relevantes para declaração para um arquivo em Excel. Fiz isso tanto para ganhar tempo quanto para ter maior precisão nos dados, uma vez que a tarefa passa a ser automatizada, gerando segurança na informação passada à Receita Federal. \r\n",
        "\r\n",
        "\r\n",
        "Observação: utilizei como base a Nota de Corretagem da Clear do Corretora, do Grupo XP, mas o código pode ser adaptado para qualquer outra Nota de Negociação, uma vez que a lógica não é alterada.\r\n",
        "\r\n",
        "**É importante ressaltar que não sou contador, mas sim engenheiro, e fiz esse material apenas para facilitar a minha vida e o disponibilizo a título de conhecimento. Caso desejem utilizá-lo, peço que não o considerem para as suas declarações sem antes validar cada um dos registros com todas as Notas de Negociação.**"
      ]
    },
    {
      "cell_type": "markdown",
      "metadata": {
        "id": "fJ1Ro8HfxjsT"
      },
      "source": [
        "##**Bibliotecas utilizadas:**\r\n",
        "\r\n",
        "\r\n",
        "\r\n",
        "1.   Utilizei a biblioteca ***OS*** para interagir com o sistema operacional através do Python, acessando a pasta onde as Notas de Corretagem se encontram.\r\n",
        "\r\n",
        "2.   Utilizei a biblioteca **PDF Plubber** para acessar os arquivos PDF pelo Python.\r\n",
        "\r\n",
        "3.   Utilizei a biblioteca ***pandas*** para exportar o *output* para o Excel, que facilita caso haja interesse em enviar o arquivo a um contador."
      ]
    },
    {
      "cell_type": "markdown",
      "metadata": {
        "id": "uij_OLZxzAhA"
      },
      "source": [
        "##**Acessar as Notas de Negociação**\r\n",
        "\r\n",
        "Primeiramente, é necessário salvar todas as Nota de Negociação em uma pasta, que será acessada pelo Python.\r\n",
        "\r\n",
        "\r\n",
        "O comando ***os.chdir*** nos permite inserir o caminho onde essa pasta se encontra:"
      ]
    },
    {
      "cell_type": "code",
      "metadata": {
        "id": "X7djj_gZxCS8"
      },
      "source": [
        "#importar OS\r\n",
        "import os"
      ],
      "execution_count": 8,
      "outputs": []
    },
    {
      "cell_type": "code",
      "metadata": {
        "id": "4hRNStF8cGBh"
      },
      "source": [
        "os.chdir('/content/Notas_de_negociação')"
      ],
      "execution_count": 3,
      "outputs": []
    },
    {
      "cell_type": "markdown",
      "metadata": {
        "id": "8WOtMsJW0EEh"
      },
      "source": [
        "Na sequência, é criada a lista ***Notas*** com cada um dos arquivos referentes às Notas de Negociação:"
      ]
    },
    {
      "cell_type": "code",
      "metadata": {
        "colab": {
          "base_uri": "https://localhost:8080/"
        },
        "id": "JrtoMa42bwg3",
        "outputId": "2569f517-2b9b-41ea-966c-ddb4aa2e943d"
      },
      "source": [
        "Notas = os.listdir()\r\n",
        "Notas"
      ],
      "execution_count": 4,
      "outputs": [
        {
          "output_type": "execute_result",
          "data": {
            "text/plain": [
              "['NotaNegociacao_418119_20200325.pdf']"
            ]
          },
          "metadata": {
            "tags": []
          },
          "execution_count": 4
        }
      ]
    },
    {
      "cell_type": "markdown",
      "metadata": {
        "id": "Dp67zMg1061v"
      },
      "source": [
        "E então a variável ***Quant_Notas*** salva a quantidade de Notas de Negociação. Isso facilita o acesso a cada nota, pois a leitura de todas será automatizada por meio de uma estrutura de repetição até que a última nota seja processada."
      ]
    },
    {
      "cell_type": "code",
      "metadata": {
        "id": "BR5nCs8ajlbG"
      },
      "source": [
        "Quant_Notas = len(Notas)"
      ],
      "execution_count": 5,
      "outputs": []
    },
    {
      "cell_type": "markdown",
      "metadata": {
        "id": "czzfc1ti2jhE"
      },
      "source": [
        "##**Ler cada Nota de Negociação e salvar todos os registros em uma lista**"
      ]
    },
    {
      "cell_type": "markdown",
      "metadata": {
        "id": "MnDiqQLs1-dX"
      },
      "source": [
        "Primeiro deverá ser criar uma lista que servirá como base para o registro de todas as operações:"
      ]
    },
    {
      "cell_type": "code",
      "metadata": {
        "id": "CviliafgieYA"
      },
      "source": [
        "base_atual = []"
      ],
      "execution_count": null,
      "outputs": []
    },
    {
      "cell_type": "markdown",
      "metadata": {
        "id": "yyYhA2OP2vzf"
      },
      "source": [
        "E por fim, com uma estrutura de repetição, cada Nota de Negociação será tratada, havendo o registro das seguintes informações:\r\n",
        "\r\n",
        "*   Data da operação\r\n",
        "*   Operação de Compra ou Venda\r\n",
        "*   Tipo de Mercado\r\n",
        "*   Empresa\r\n",
        "*   Especificação da ação (ON, PN, Unit)\r\n",
        "*   Quantidade\r\n",
        "*   Preço da ação\r\n",
        "*   Valor da Operação\r\n",
        "*   Operação de Débito ou Crédito\r\n",
        "\r\n",
        "\r\n",
        "\r\n",
        "\r\n",
        "\r\n",
        "\r\n",
        "\r\n",
        "\r\n",
        "\r\n",
        "\r\n"
      ]
    },
    {
      "cell_type": "code",
      "metadata": {
        "colab": {
          "base_uri": "https://localhost:8080/"
        },
        "id": "N_uTZpPPn5pA",
        "outputId": "b72b7ac3-3ab4-414e-901e-c4271a773b9d"
      },
      "source": [
        "# Instalar o PDPF Plumber\r\n",
        "!pip install pdfplumber\r\n",
        "\r\n",
        "# importar o PDF Plumber\r\n",
        "import pdfplumber"
      ],
      "execution_count": 10,
      "outputs": [
        {
          "output_type": "stream",
          "text": [
            "Collecting pdfplumber\n",
            "\u001b[?25l  Downloading https://files.pythonhosted.org/packages/4f/18/2ac9c819831087db6b5ef78ea66aa0ae8cd4b468c51845316f6a6e31c036/pdfplumber-0.5.26.tar.gz (43kB)\n",
            "\u001b[K     |████████████████████████████████| 51kB 2.9MB/s \n",
            "\u001b[?25hCollecting pdfminer.six==20200517\n",
            "\u001b[?25l  Downloading https://files.pythonhosted.org/packages/b0/c0/ef1c8758bbd86edb10b5443700aac97d0ba27a9ca2e7696db8cd1fdbd5a8/pdfminer.six-20200517-py3-none-any.whl (5.6MB)\n",
            "\u001b[K     |████████████████████████████████| 5.6MB 6.1MB/s \n",
            "\u001b[?25hRequirement already satisfied: Pillow>=7.0.0 in /usr/local/lib/python3.7/dist-packages (from pdfplumber) (7.0.0)\n",
            "Collecting Wand\n",
            "\u001b[?25l  Downloading https://files.pythonhosted.org/packages/98/08/096b76e9211ca5ef338791100b76375555cb4082a53496b1c1d5897ee13c/Wand-0.6.5-py2.py3-none-any.whl (138kB)\n",
            "\u001b[K     |████████████████████████████████| 143kB 18.9MB/s \n",
            "\u001b[?25hRequirement already satisfied: sortedcontainers in /usr/local/lib/python3.7/dist-packages (from pdfminer.six==20200517->pdfplumber) (2.3.0)\n",
            "Requirement already satisfied: chardet; python_version > \"3.0\" in /usr/local/lib/python3.7/dist-packages (from pdfminer.six==20200517->pdfplumber) (3.0.4)\n",
            "Collecting pycryptodome\n",
            "\u001b[?25l  Downloading https://files.pythonhosted.org/packages/ad/16/9627ab0493894a11c68e46000dbcc82f578c8ff06bc2980dcd016aea9bd3/pycryptodome-3.10.1-cp35-abi3-manylinux2010_x86_64.whl (1.9MB)\n",
            "\u001b[K     |████████████████████████████████| 1.9MB 28.0MB/s \n",
            "\u001b[?25hBuilding wheels for collected packages: pdfplumber\n",
            "  Building wheel for pdfplumber (setup.py) ... \u001b[?25l\u001b[?25hdone\n",
            "  Created wheel for pdfplumber: filename=pdfplumber-0.5.26-cp37-none-any.whl size=31747 sha256=378835b3eb53477f718500803649e7acad0ad116e6e8d89a74efee1a71f0ff00\n",
            "  Stored in directory: /root/.cache/pip/wheels/5a/4a/09/8f7b594a0d7ed1ca5fe27078a6a96e7439167a502074d87d1b\n",
            "Successfully built pdfplumber\n",
            "Installing collected packages: pycryptodome, pdfminer.six, Wand, pdfplumber\n",
            "Successfully installed Wand-0.6.5 pdfminer.six-20200517 pdfplumber-0.5.26 pycryptodome-3.10.1\n"
          ],
          "name": "stdout"
        }
      ]
    },
    {
      "cell_type": "code",
      "metadata": {
        "id": "6t6qMnTX1NKi",
        "colab": {
          "base_uri": "https://localhost:8080/"
        },
        "outputId": "46d10d3c-2a86-47e8-e22d-7b0068e9c4c4"
      },
      "source": [
        "# abrir o arquivo\r\n",
        "a = 0\r\n",
        "while a < Quant_Notas:\r\n",
        "  \r\n",
        "  # abrir o PDF de índice \"a\"\r\n",
        "  pdf = pdfplumber.open(Notas[a])\r\n",
        "  \r\n",
        "  # referenciar a primeira página do PDF (índice 0, onde estarão os dados)\r\n",
        "  page = pdf.pages[0]\r\n",
        "  \r\n",
        "  # extrair informações da página\r\n",
        "  text = page.extract_text()\r\n",
        "\r\n",
        "  # transformar página em uma lista e cada linha um elemento dessa página\r\n",
        "  text.split('\\n')\r\n",
        "\r\n",
        "  registros = [] # cada registro serão adicionados à lista 'registros'\r\n",
        "  \r\n",
        "  \r\n",
        "\r\n",
        "  i = 19 # a próxima informação está na linha de índice 19\r\n",
        "  while text.split('\\n')[i][0] == \"1\": # será avaliada cada linha com registro desde a primeira. Quando começar com algo diferente de \"1\", não será registro.\r\n",
        "    # leitura da data da operação\r\n",
        "\r\n",
        "    Data = text.split('\\n')[2][-10:]\r\n",
        "\r\n",
        "    # adição da data na lista de registros\r\n",
        "\r\n",
        "    registros.append(Data)\r\n",
        "  \r\n",
        "    # negociacao: retira o campo \"Negociação\" do registro e o adiciona na lista registros\r\n",
        "    #negociacao = text.split('\\n')[i][0:9].strip()\r\n",
        "    #registros.append(negociacao)\r\n",
        "\r\n",
        "    # C/V: retira o campo \"C/V\" e o adiciona na lista de registros\r\n",
        "    CV = text.split('\\n')[i][10].strip()\r\n",
        "    registros.append(CV)\r\n",
        "\r\n",
        "    # tipo_mercado: retira o campo \"Tipo mercado\" e o adiciona na lista de registros\r\n",
        "    tipo_mercado = text.split('\\n')[i][12:17]\r\n",
        "    registros.append(tipo_mercado)\r\n",
        "\r\n",
        "    # especificacao_do_titulo: retira o campo \"Especificação do Título\" e o adiciona na lista de registros\r\n",
        "    \r\n",
        "    j = 18\r\n",
        "    espaco = 0\r\n",
        "    \r\n",
        "    while espaco < 2: # não pode chegar a dois espaços. Caso chegue, não é mais separação do nome (exemplo: \"Santos Brasil\" tem um só espaço)\r\n",
        "      if text.split('\\n')[i][j] == \" \":\r\n",
        "        espaco = espaco + 1\r\n",
        "      j = j + 1\r\n",
        "    \r\n",
        "\r\n",
        "    nome = text.split('\\n')[i][18:j-2]\r\n",
        "    registros.append(nome)\r\n",
        "\r\n",
        "    n = 0\r\n",
        "    codigo = 0\r\n",
        "\r\n",
        "    while n == 0: # \"n\" é o controle para sair do loop \r\n",
        "      if text.split('\\n')[i][j] == \" \":\r\n",
        "        j = j + 1\r\n",
        "      else:\r\n",
        "        codigo = text.split('\\n')[i][j:j+6]\r\n",
        "        n = 1\r\n",
        "    \r\n",
        "    registros.append(codigo)\r\n",
        "    \r\n",
        "    # Quantidade: retira o campo \"Quantidade\" e o adiciona na lista de registros\r\n",
        "    \r\n",
        "    if codigo == \"UNT N2\":\r\n",
        "      j = j + 7 # inicia a partir do primeiro algarismo da quantidade\r\n",
        "      k = j\r\n",
        "      espaco = 0 # não pode ter um espaco, pois é número inteiro (quantidade). Quando encontrar o espaço, a quantidade está definida\r\n",
        "    else:\r\n",
        "      j = j + 6 # inicia a partir do primeiro algarismo da quantidade\r\n",
        "      k = j\r\n",
        "      espaco = 0 # não pode ter um espaco, pois é número inteiro (quantidade). Quando encontrar o espaço, a quantidade está definida\r\n",
        "    \r\n",
        "    while espaco == 0:\r\n",
        "      if text.split('\\n')[i][j] == \" \":\r\n",
        "        espaco = espaco + 1\r\n",
        "      j = j + 1\r\n",
        "    quantidade = text.split('\\n')[i][k:j-1]\r\n",
        "\r\n",
        "    registros.append(quantidade)\r\n",
        "    \r\n",
        "    # preco_ajuste: retira o campo \"preco_ajuste\" e o adiciona na lista de registros\r\n",
        "\r\n",
        "    k = j\r\n",
        "    espaco = 0\r\n",
        "\r\n",
        "    while espaco == 0:\r\n",
        "      if text.split('\\n')[i][j] == \" \":\r\n",
        "        espaco = espaco + 1\r\n",
        "      j = j + 1\r\n",
        "    preco_ajuste = text.split('\\n')[i][k:j-1]\r\n",
        "\r\n",
        "    registros.append(preco_ajuste)\r\n",
        "\r\n",
        "\r\n",
        "    # valor: retira o campo \"valor\" e o adiciona na lista de registros\r\n",
        "\r\n",
        "    k = j\r\n",
        "    espaco = 0\r\n",
        "\r\n",
        "    while espaco == 0:\r\n",
        "      if text.split('\\n')[i][j] == \" \":\r\n",
        "        espaco = espaco + 1\r\n",
        "      j = j + 1\r\n",
        "    valor = text.split('\\n')[i][k:j-1]\r\n",
        "\r\n",
        "    registros.append(valor)\r\n",
        "\r\n",
        "    # DC: retira o campo \"D/C\" e o adiciona na lista de registros\r\n",
        "\r\n",
        "    DC = text.split('\\n')[i][-1]\r\n",
        "\r\n",
        "    registros.append(DC)\r\n",
        "    \r\n",
        "    # imprime o registro\r\n",
        "    print('Registro', i- 18, 'arquivo' , a + 1 , ':', registros)\r\n",
        "\r\n",
        "    base_atual.append(registros)\r\n",
        "\r\n",
        "    registros = [] \r\n",
        "    \r\n",
        "    i = i + 1\r\n",
        "\r\n",
        "  a = a + 1\r\n",
        "\r\n"
      ],
      "execution_count": null,
      "outputs": [
        {
          "output_type": "stream",
          "text": [
            "Registro 1 arquivo 1 : ['25/03/2020', 'C', 'VISTA', 'PETROBRAS', 'PN N2 ', '500', '13,32', '6.660,00', 'D']\n",
            "Registro 2 arquivo 1 : ['25/03/2020', 'C', 'VISTA', 'TAESA', 'PN N2 ', '200', '8,12', '1.624,00', 'D']\n",
            "Registro 3 arquivo 1 : ['25/03/2020', 'C', 'VISTA', 'TAESA', 'PN N2 ', '100', '8,12', '812,00', 'D']\n",
            "Registro 1 arquivo 2 : ['14/12/2020', 'C', 'VISTA', 'ALUPAR', 'UNT N2', '100', '26,81', '2.681,00', 'D']\n",
            "Registro 2 arquivo 2 : ['14/12/2020', 'C', 'VISTA', 'HYPERA', 'ON NM ', '100', '32,60', '3.260,00', 'D']\n",
            "Registro 3 arquivo 2 : ['14/12/2020', 'C', 'VISTA', 'ODONTOPREV', 'ON NM ', '100', '13,90', '1.390,00', 'D']\n",
            "Registro 4 arquivo 2 : ['14/12/2020', 'V', 'VISTA', 'PETROBRAS', 'PN N2 ', '300', '28,07', '8.421,00', 'C']\n",
            "Registro 5 arquivo 2 : ['14/12/2020', 'C', 'VISTA', 'WIZ S.A', 'ON NM ', '200', '9,31', '1.862,00', 'D']\n"
          ],
          "name": "stdout"
        }
      ]
    },
    {
      "cell_type": "markdown",
      "metadata": {
        "id": "dLqGKkxm6jwl"
      },
      "source": [
        "A base se encontrará abaixo:"
      ]
    },
    {
      "cell_type": "code",
      "metadata": {
        "colab": {
          "base_uri": "https://localhost:8080/"
        },
        "id": "cCMNLk3q6i4d",
        "outputId": "478d3dac-2b76-4c62-a245-0f6550457bbe"
      },
      "source": [
        "#print('Base atual:' , base_atual)\r\n",
        "print('Base atual:' , base_atual)"
      ],
      "execution_count": null,
      "outputs": [
        {
          "output_type": "stream",
          "text": [
            "Base atual: [['25/03/2020', 'C', 'VISTA', 'PETROBRAS', 'PN N2 ', '500', '13,32', '6.660,00', 'D'], ['25/03/2020', 'C', 'VISTA', 'TAESA', 'PN N2 ', '200', '8,12', '1.624,00', 'D'], ['25/03/2020', 'C', 'VISTA', 'TAESA', 'PN N2 ', '100', '8,12', '812,00', 'D'], ['14/12/2020', 'C', 'VISTA', 'ALUPAR', 'UNT N2', '100', '26,81', '2.681,00', 'D'], ['14/12/2020', 'C', 'VISTA', 'HYPERA', 'ON NM ', '100', '32,60', '3.260,00', 'D'], ['14/12/2020', 'C', 'VISTA', 'ODONTOPREV', 'ON NM ', '100', '13,90', '1.390,00', 'D'], ['14/12/2020', 'V', 'VISTA', 'PETROBRAS', 'PN N2 ', '300', '28,07', '8.421,00', 'C'], ['14/12/2020', 'C', 'VISTA', 'WIZ S.A', 'ON NM ', '200', '9,31', '1.862,00', 'D']]\n"
          ],
          "name": "stdout"
        }
      ]
    },
    {
      "cell_type": "markdown",
      "metadata": {
        "id": "bAfSn-xEGq2b"
      },
      "source": [
        "##**Exportar a base para o Excel**\r\n",
        "\r\n",
        "A base será exportada via pandas para o arquivo \"Operações realizadas\". Desse modo, o arquivo estará pronto para **validação** entre cada um de seus registros e as Notas de Corretagem."
      ]
    },
    {
      "cell_type": "code",
      "metadata": {
        "id": "OeT93yg6B7LT"
      },
      "source": [
        "import pandas as pd\r\n",
        "\r\n",
        "df = pd.DataFrame(base_atual)\r\n",
        "df.to_excel(excel_writer = \"Operações realizadas.xlsx\")"
      ],
      "execution_count": null,
      "outputs": []
    }
  ]
}