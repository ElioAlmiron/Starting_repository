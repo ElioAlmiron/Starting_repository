{
  "nbformat": 4,
  "nbformat_minor": 0,
  "metadata": {
    "colab": {
      "name": "Operações na Clear Corretora.ipynb",
      "provenance": [],
      "collapsed_sections": [],
      "toc_visible": true,
      "authorship_tag": "ABX9TyOPlfU8EUTsWKUz732GxfLn",
      "include_colab_link": true
    },
    "kernelspec": {
      "name": "python3",
      "display_name": "Python 3"
    }
  },
  "cells": [
    {
      "cell_type": "markdown",
      "metadata": {
        "id": "view-in-github",
        "colab_type": "text"
      },
      "source": [
        "<a href=\"https://colab.research.google.com/github/ElioAlmiron/Starting_repository/blob/main/Opera%C3%A7%C3%B5es_na_Clear_Corretora.ipynb\" target=\"_parent\"><img src=\"https://colab.research.google.com/assets/colab-badge.svg\" alt=\"Open In Colab\"/></a>"
      ]
    },
    {
      "cell_type": "markdown",
      "metadata": {
        "id": "jc9E1xikxUCU"
      },
      "source": [
        "#**Extração de dados para declaração de imposto de renda de Notas de Corretagem - Clear Corretora**"
      ]
    },
    {
      "cell_type": "markdown",
      "metadata": {
        "id": "Gy_f8dnZt9bh"
      },
      "source": [
        "Todo início de ano é necessário fazer a declaração de imposto de renda. E é uma das atividades mais chatas desse período - pior que pegar congestionamento na volta do Carvanal, que nos toma um bom tempo e nos gera certo stress. Sempre há o risco de fazer a declaração incorretamente e, como consequência, cair na malha fina da Receita Federal. E para quem opera investe em ações, há um ponto adicional: inserir as operações realizadas no ano fiscal. Para isso, é recomendado planilhar cada uma dessas transações para facilitar a declaração. \r\n",
        "\r\n",
        "\r\n",
        "Desse modo, montei um programa em Python que lê cada uma das Notas de Negociação e exporta cada uma das informações relevantes para declaração para um arquivo em Excel. Fiz isso tanto para ganhar tempo quanto para ter maior precisão nos dados, uma vez que a tarefa passa a ser automatizada, gerando segurança na informação passada à Receita Federal. \r\n",
        "\r\n",
        "\r\n",
        "Observação: utilizei como base a Nota de Corretagem da Clear do Corretora, do Grupo XP, mas o código pode ser adaptado para qualquer outra Nota de Negociação, uma vez que a lógica não é alterada.\r\n",
        "\r\n",
        "**É importante ressaltar que não sou contador, mas sim engenheiro, e fiz esse material apenas para facilitar a minha vida e o disponibilizo a título de conhecimento. Caso desejem utilizá-lo, peço que não o considerem para as suas declarações sem antes validar cada um dos registros com todas as Notas de Negociação.**"
      ]
    },
    {
      "cell_type": "markdown",
      "metadata": {
        "id": "fJ1Ro8HfxjsT"
      },
      "source": [
        "##**Bibliotecas utilizadas:**\r\n",
        "\r\n",
        "\r\n",
        "\r\n",
        "1.   Utilizei a biblioteca ***OS*** para interagir com o sistema operacional através do Python, acessando a pasta onde as Notas de Corretagem se encontram.\r\n",
        "\r\n",
        "2.   Utilizei a biblioteca **PDF Plubber** para acessar os arquivos PDF pelo Python.\r\n",
        "\r\n",
        "3.   Utilizei a biblioteca ***pandas*** para exportar o *output* para o Excel, que facilita caso haja interesse em enviar o arquivo a um contador."
      ]
    },
    {
      "cell_type": "markdown",
      "metadata": {
        "id": "uij_OLZxzAhA"
      },
      "source": [
        "##**Acessar as Notas de Negociação**\r\n",
        "\r\n",
        "Primeiramente, é necessário salvar todas as Nota de Negociação em uma pasta, que será acessada pelo Python.\r\n",
        "\r\n",
        "\r\n",
        "O comando ***os.chdir*** nos permite inserir o caminho onde essa pasta se encontra:"
      ]
    },
    {
      "cell_type": "code",
      "metadata": {
        "id": "X7djj_gZxCS8"
      },
      "source": [
        "#importar OS\r\n",
        "import os"
      ],
      "execution_count": 3,
      "outputs": []
    },
    {
      "cell_type": "code",
      "metadata": {
        "id": "4hRNStF8cGBh"
      },
      "source": [
        "os.chdir('/content/Notas de negociação')"
      ],
      "execution_count": 4,
      "outputs": []
    },
    {
      "cell_type": "markdown",
      "metadata": {
        "id": "8WOtMsJW0EEh"
      },
      "source": [
        "Na sequência, é criada a lista ***Notas*** com cada um dos arquivos referentes às Notas de Negociação:"
      ]
    },
    {
      "cell_type": "code",
      "metadata": {
        "id": "JrtoMa42bwg3",
        "colab": {
          "base_uri": "https://localhost:8080/"
        },
        "outputId": "7055e11e-09a5-447a-b2d5-a5493aa29a7c"
      },
      "source": [
        "Notas = os.listdir()\r\n",
        "Notas"
      ],
      "execution_count": 5,
      "outputs": [
        {
          "output_type": "execute_result",
          "data": {
            "text/plain": [
              "['NotaNegociacao_418119_20200401.pdf',\n",
              " 'NotaNegociacao_418119_20200319.pdf',\n",
              " 'NotaNegociacao_418119_20200115.pdf',\n",
              " 'NotaNegociacao_418119_20200610.pdf',\n",
              " 'NotaNegociacao_418119_20201111.pdf',\n",
              " 'NotaNegociacao_418119_20200415.pdf',\n",
              " 'NotaNegociacao_418119_20200916.pdf',\n",
              " 'NotaNegociacao_418119_20200218.pdf',\n",
              " 'NotaNegociacao_418119_20200917.pdf',\n",
              " 'NotaNegociacao_418119_20200212.pdf',\n",
              " 'NotaNegociacao_418119_20200508.pdf',\n",
              " 'NotaNegociacao_418119_20200318.pdf',\n",
              " 'NotaNegociacao_418119_20201126.pdf',\n",
              " 'NotaNegociacao_418119_20201222.pdf',\n",
              " 'NotaNegociacao_418119_20200327.pdf',\n",
              " 'NotaNegociacao_418119_20200325.pdf',\n",
              " 'NotaNegociacao_418119_20200602.pdf',\n",
              " 'NotaNegociacao_418119_20200309.pdf',\n",
              " 'NotaNegociacao_418119_20200904.pdf',\n",
              " 'NotaNegociacao_418119_20200420.pdf',\n",
              " 'NotaNegociacao_418119_20200324.pdf',\n",
              " 'NotaNegociacao_418119_20200430.pdf',\n",
              " 'NotaNegociacao_418119_20200403.pdf',\n",
              " 'NotaNegociacao_418119_20200525.pdf',\n",
              " 'NotaNegociacao_418119_20200519.pdf',\n",
              " 'NotaNegociacao_418119_20200713.pdf',\n",
              " 'NotaNegociacao_418119_20200213.pdf',\n",
              " 'NotaNegociacao_418119_20200929.pdf',\n",
              " 'NotaNegociacao_418119_20200313.pdf',\n",
              " 'NotaNegociacao_418119_20200701.pdf',\n",
              " 'NotaNegociacao_418119_20200116.pdf',\n",
              " 'NotaNegociacao_418119_20200715.pdf',\n",
              " 'NotaNegociacao_418119_20200317.pdf',\n",
              " 'NotaNegociacao_418119_20200511.pdf',\n",
              " 'NotaNegociacao_418119_20201203.pdf',\n",
              " 'NotaNegociacao_418119_20201214.pdf',\n",
              " 'NotaNegociacao_418119_20200226.pdf',\n",
              " 'NotaNegociacao_418119_20200407.pdf',\n",
              " 'NotaNegociacao_418119_20200504.pdf',\n",
              " 'NotaNegociacao_418119_20200204.pdf',\n",
              " 'NotaNegociacao_418119_20200320.pdf',\n",
              " 'NotaNegociacao_418119_20201005.pdf',\n",
              " 'NotaNegociacao_418119_20200402.pdf']"
            ]
          },
          "metadata": {
            "tags": []
          },
          "execution_count": 5
        }
      ]
    },
    {
      "cell_type": "markdown",
      "metadata": {
        "id": "Dp67zMg1061v"
      },
      "source": [
        "E então a variável ***Quant_Notas*** salva a quantidade de Notas de Negociação. Isso facilita o acesso a cada nota, pois a leitura de todas será automatizada por meio de uma estrutura de repetição até que a última nota seja processada."
      ]
    },
    {
      "cell_type": "code",
      "metadata": {
        "id": "BR5nCs8ajlbG"
      },
      "source": [
        "Quant_Notas = len(Notas)"
      ],
      "execution_count": 6,
      "outputs": []
    },
    {
      "cell_type": "markdown",
      "metadata": {
        "id": "czzfc1ti2jhE"
      },
      "source": [
        "##**Ler cada Nota de Negociação e salvar todos os registros em uma lista**"
      ]
    },
    {
      "cell_type": "markdown",
      "metadata": {
        "id": "yyYhA2OP2vzf"
      },
      "source": [
        "Com uma estrutura de repetição, cada Nota de Negociação será tratada, havendo o registro das seguintes informações:\r\n",
        "\r\n",
        "*   Data da operação\r\n",
        "*   Operação de Compra ou Venda\r\n",
        "*   Tipo de Mercado\r\n",
        "*   Empresa\r\n",
        "*   Especificação da ação (ON, PN, Unit)\r\n",
        "*   Quantidade\r\n",
        "*   Preço da ação\r\n",
        "*   Valor da Operação\r\n",
        "*   Operação de Débito ou Crédito\r\n",
        "*   Taxas e impostos\r\n",
        "\r\n",
        "\r\n",
        "\r\n",
        "\r\n",
        "\r\n",
        "\r\n",
        "\r\n",
        "\r\n",
        "\r\n",
        "\r\n",
        "\r\n",
        "\r\n",
        "\r\n"
      ]
    },
    {
      "cell_type": "code",
      "metadata": {
        "id": "N_uTZpPPn5pA",
        "colab": {
          "base_uri": "https://localhost:8080/"
        },
        "outputId": "25ccd0a9-2de4-48ce-e895-0246b510a677"
      },
      "source": [
        "# Instalar o PDPF Plumber\r\n",
        "!pip install pdfplumber -q\r\n",
        "\r\n",
        "# importar o PDF Plumber\r\n",
        "import pdfplumber"
      ],
      "execution_count": 8,
      "outputs": [
        {
          "output_type": "stream",
          "text": [
            "\u001b[K     |████████████████████████████████| 51kB 2.9MB/s \n",
            "\u001b[K     |████████████████████████████████| 5.6MB 6.7MB/s \n",
            "\u001b[K     |████████████████████████████████| 143kB 43.8MB/s \n",
            "\u001b[K     |████████████████████████████████| 1.9MB 46.1MB/s \n",
            "\u001b[?25h  Building wheel for pdfplumber (setup.py) ... \u001b[?25l\u001b[?25hdone\n"
          ],
          "name": "stdout"
        }
      ]
    },
    {
      "cell_type": "code",
      "metadata": {
        "id": "6t6qMnTX1NKi",
        "colab": {
          "base_uri": "https://localhost:8080/"
        },
        "outputId": "4a9a53d9-3844-4abc-d398-65e9f00fc954"
      },
      "source": [
        "# lista que será utilizada para o registro de todas as operações\r\n",
        "\r\n",
        "base_atual = []\r\n",
        "\r\n",
        "# abrir o arquivo\r\n",
        "\r\n",
        "# O while abaixo percorrerá todos os PDFs que estiverem no arquivo em questão\r\n",
        "a = 0\r\n",
        "while a < Quant_Notas:\r\n",
        "  \r\n",
        "  # abrir o PDF de índice \"a\"\r\n",
        "  pdf = pdfplumber.open(Notas[a])\r\n",
        "  \r\n",
        "  # referenciar a primeira página do PDF (índice 0, onde estarão os dados)\r\n",
        "  page = pdf.pages[0]\r\n",
        "  \r\n",
        "  # extrair informações da página\r\n",
        "  text = page.extract_text()\r\n",
        "  \r\n",
        "  # quantidade de linhas dessa página\r\n",
        "  quant_linhas = len(text.split('\\n'))\r\n",
        "  \r\n",
        "  registros = [] # cada registro serão adicionados à lista 'registros'\r\n",
        "  \r\n",
        "  # leitura da data da operação, qu será única para cada nota de negociação\r\n",
        "\r\n",
        "  Data = text.split('\\n')[2][-10:]\r\n",
        "\r\n",
        "  # cálculo das taxas em cada operação dessa Nota de Negociação\r\n",
        "  \r\n",
        "  taxas = 0\r\n",
        "\r\n",
        "  x = -7 # x representa o primeiro algarismo antes da vírgula\r\n",
        "  while text.split('\\n')[-28][x : x + 1] != \" \": # quando encontrar o vazio, não é mais parte do número\r\n",
        "    x = x - 1 # se não encontrou o vazio, testa um campo para a esquerda\r\n",
        "  y = text.split('\\n')[-28][x + 1 : -2] # número\r\n",
        "  \r\n",
        "  taxas = taxas - float(y.replace('.','').replace(',','.'))\r\n",
        "  \r\n",
        "  \r\n",
        "  x = -7 # x representa o primeiro algarismo antes da vírgula\r\n",
        "  while text.split('\\n')[-10][x : x + 1] != \" \": # quando encontrar o vazio, não é mais parte do número\r\n",
        "    x = x - 1 # se não encontrou o vazio, testa um campo para a esquerda\r\n",
        "  y = text.split('\\n')[-10][x + 1 : -2] # número\r\n",
        "  \r\n",
        "  taxas = abs(round(taxas + float(y.replace('.','').replace(',','.')), 2))\r\n",
        "\r\n",
        "\r\n",
        "  # somatório de todos os valores de operações\r\n",
        "\r\n",
        "  i = 19 # a próxima informação está na linha de índice 19, que é a linha onde está a primeira negociação\r\n",
        "\r\n",
        "  soma_das_operacoes = 0\r\n",
        "\r\n",
        "  # O while abaixo soma o valor de todas as operações, para que seja rateada a taxa da nota de corretagem inteira por todas operações\r\n",
        "  \r\n",
        "  while text.split('\\n')[i][0] == \"1\":\r\n",
        "    \r\n",
        "    x = -7 # x representa o primeiro algarismo antes da vírgula\r\n",
        "    while text.split('\\n')[i][x : x + 1] != \" \": # quando encontrar o vazio, não é mais parte do número\r\n",
        "      x = x - 1 # se não encontrou o vazio, testa um campo para a esquerda\r\n",
        "    y = text.split('\\n')[i][x + 1 : -2] # número\r\n",
        "    y = float(y.replace('.','').replace(',','.'))\r\n",
        "\r\n",
        "    soma_das_operacoes = soma_das_operacoes + y\r\n",
        "    \r\n",
        "    i = i + 1\r\n",
        "\r\n",
        "\r\n",
        "  i = 19 #  volta para a linha de índice 19 para buscar uma a uma todas as informações de cada negociação\r\n",
        "  \r\n",
        "  while i < quant_linhas:\r\n",
        "  \r\n",
        "    if text.split('\\n')[i][0] == \"1\": # será avaliada cada linha com registro desde a primeira. Quando começar com algo diferente de \"1\", não será registro.\r\n",
        "      # leitura da data da operação\r\n",
        "\r\n",
        "      Data = text.split('\\n')[2][-10:]\r\n",
        "\r\n",
        "      # adição da data na lista de registros\r\n",
        "\r\n",
        "      registros.append(Data)\r\n",
        "\r\n",
        "\r\n",
        "      # C/V: retira o campo \"C/V\" e o adiciona na lista de registros\r\n",
        "      CV = text.split('\\n')[i][10].strip()\r\n",
        "      registros.append(CV)\r\n",
        "\r\n",
        "\r\n",
        "      # tipo_mercado: retira o campo \"Tipo mercado\" e o adiciona na lista de registros\r\n",
        "      tipo_mercado = text.split('\\n')[i][12:17]\r\n",
        "      registros.append(tipo_mercado)\r\n",
        "\r\n",
        "\r\n",
        "      # especificacao_do_titulo: retira o campo \"Especificação do Título\" e o adiciona na lista de registros\r\n",
        "      \r\n",
        "      j = 18\r\n",
        "      espaco = 0\r\n",
        "      \r\n",
        "      while espaco < 2: # não pode chegar a dois espaços. Caso chegue, não é mais separação do nome (exemplo: \"Santos Brasil\" tem um só espaço)\r\n",
        "        if text.split('\\n')[i][j] == \" \":\r\n",
        "          espaco = espaco + 1\r\n",
        "        j = j + 1\r\n",
        "      \r\n",
        "\r\n",
        "      nome = text.split('\\n')[i][18:j-2]\r\n",
        "      registros.append(nome)\r\n",
        "\r\n",
        "\r\n",
        "      n = 0\r\n",
        "      codigo = 0\r\n",
        "\r\n",
        "      while n == 0: # \"n\" é o controle para sair do loop \r\n",
        "        if text.split('\\n')[i][j] == \" \":\r\n",
        "          j = j + 1\r\n",
        "        else:\r\n",
        "          codigo = text.split('\\n')[i][j:j+3]\r\n",
        "          n = 1\r\n",
        "      \r\n",
        "      registros.append(codigo)\r\n",
        "\r\n",
        "      # pela grande variação de quantidade de algarismos dos códigos, o próximo campo a ser buscado não será o primeiro após o código, mas sim o último da lista, passando a corrê-la do fim até esse ponto\r\n",
        "\r\n",
        "      # DC: retira o campo \"D/C\" e o adiciona à lista de registros\r\n",
        "\r\n",
        "      DC = text.split('\\n')[i][-1]\r\n",
        "\r\n",
        "\r\n",
        "      # valor: retira o campo \"Valor Operação\" e o adiciona à lista de registros\r\n",
        "\r\n",
        "      x = -7 # x representa o primeiro algarismo antes da vírgula\r\n",
        "      while text.split('\\n')[i][x : x + 1] != \" \": # quando encontrar o vazio, não é mais parte do número\r\n",
        "        x = x - 1 # se não encontrou o vazio, testa um campo para a esquerda\r\n",
        "      valor = text.split('\\n')[i][x + 1 : -2] # número\r\n",
        "     \r\n",
        "\r\n",
        "      x = x - 4 # x - 4 é o último algarismo antes da vírgula no campo \"Preço / Ajuste\"\r\n",
        "      y = x\r\n",
        "      #print(text.split('\\n')[i][a])\r\n",
        "      # preco_ajuste: retira o campo \"Preço / Ajuste\" e o adiciona à lista de registros\r\n",
        "      while text.split('\\n')[i][x] != \" \": #quando o valor procurado for vazio, terão sido encontrados todos os algarismos desse campo\r\n",
        "        x = x - 1\r\n",
        "        #print(text.split('\\n')[i][x])\r\n",
        "        y = y + 1\r\n",
        "        #print(text.split('\\n')[i][y])\r\n",
        "      \r\n",
        "      preco_ajuste = text.split('\\n')[i][x + 1 : y + 3]\r\n",
        "\r\n",
        "\r\n",
        "      x = x - 1\r\n",
        "      y = x\r\n",
        "\r\n",
        "      # quantidade: retira o campo \"Quantidade\" e o adiciona à lista de registros\r\n",
        "\r\n",
        "      while text.split('\\n')[i][x] != \" \": #quando o valor procurado for vazio, terão sido encontrados todos os algarismos desse campo \r\n",
        "        x = x - 1 # caminha por todo o campo, até encontrar seu valor inteiro\r\n",
        "        y = y + 1 # registra até qual algarismo deve ser considerado o valor da quantidade\r\n",
        "\r\n",
        "      quantidade = text.split('\\n')[i][x + 1: y - 2]\r\n",
        "\r\n",
        "      # adiciona \"quantidade\", \"preço ajuste\", \"valor\" e \"DC\" à lista de registros\r\n",
        "\r\n",
        "      registros.append(quantidade)\r\n",
        "      registros.append(preco_ajuste)\r\n",
        "      registros.append(valor)\r\n",
        "      registros.append(DC)\r\n",
        "\r\n",
        "      # taxas: rateia as taxas por cada uma das operações, a partir do valor\r\n",
        "      \r\n",
        "      taxas_2 = round(taxas * float(valor.replace('.','').replace(',','.')) / soma_das_operacoes,2)\r\n",
        "      registros.append(taxas_2)\r\n",
        "\r\n",
        "\r\n",
        "      # imprime o registro\r\n",
        "      print('Registro', i- 18, 'arquivo' , a + 1 , ':', registros)\r\n",
        "      base_atual.append(registros)\r\n",
        "\r\n",
        "      registros = []\r\n",
        "    i = i + 1\r\n",
        "\r\n",
        "  a = a + 1\r\n",
        "\r\n"
      ],
      "execution_count": 9,
      "outputs": [
        {
          "output_type": "stream",
          "text": [
            "Registro 1 arquivo 1 : ['01/04/2020', 'C', 'VISTA', 'CENTAURO', 'ON ', '100', '21,74 ', '2.174,00', 'D', 0.67]\n",
            "Registro 2 arquivo 1 : ['01/04/2020', 'V', 'VISTA', 'TAESA', 'PN ', '300', '8,21', '2.463,00', 'C', 0.76]\n",
            "Registro 3 arquivo 1 : ['01/04/2020', 'C', 'VISTA', 'VIAVAREJO', 'ON ', '100', '4,66', '466,00', 'D', 0.14]\n",
            "Registro 1 arquivo 2 : ['19/03/2020', 'V', 'VISTA', 'PETROBRAS', 'PN ', '500', '12,32 ', '6.160,00', 'C', 1.89]\n",
            "Registro 1 arquivo 3 : ['15/01/2020', 'C', 'VISTA', 'SANTOS BR', 'ON ', '300', '8,36', '2.508,00', 'D', 0.77]\n",
            "Registro 1 arquivo 4 : ['10/06/2020', 'V', 'VISTA', 'SID NACIONA', 'ON ', '100', '11,80 ', '1.180,00', 'C', 0.36]\n",
            "Registro 2 arquivo 4 : ['10/06/2020', 'V', 'VISTA', 'SID NACIONA', 'ON ', '200', '11,80 ', '2.360,00', 'C', 0.72]\n",
            "Registro 1 arquivo 5 : ['11/11/2020', 'C', 'VISTA', 'ISHARE SP50', 'CI ', '1', '207,86 2', '2.078,60', 'D', 0.64]\n",
            "Registro 2 arquivo 5 : ['11/11/2020', 'C', 'VISTA', 'ISHARE SP50', 'CI ', '1', '207,86 2', '2.078,60', 'D', 0.64]\n",
            "Registro 3 arquivo 5 : ['11/11/2020', 'V', 'VISTA', 'JBS', 'ON ', '200', '21,15 ', '4.230,00', 'C', 1.3]\n",
            "Registro 1 arquivo 6 : ['15/04/2020', 'C', 'VISTA', 'IMC S/', 'ON ', '1.000 2', '2,73', '2.730,00', 'D', 0.83]\n",
            "Registro 1 arquivo 7 : ['16/09/2020', 'V', 'VISTA', 'TAESA', 'PN ', '100', '9,57', '957,00', 'C', 0.29]\n",
            "Registro 2 arquivo 7 : ['16/09/2020', 'V', 'VISTA', 'TAESA', 'PN ', '100', '9,57', '957,00', 'C', 0.29]\n",
            "Registro 3 arquivo 7 : ['16/09/2020', 'V', 'VISTA', 'TAESA', 'PN ', '200', '9,57', '1.914,00', 'C', 0.58]\n",
            "Registro 4 arquivo 7 : ['16/09/2020', 'V', 'VISTA', 'TAESA', 'PN ', '200', '9,57', '1.914,00', 'C', 0.58]\n",
            "Registro 5 arquivo 7 : ['16/09/2020', 'C', 'VISTA', 'TAESA', 'UNT', '200', '28,69 ', '5.738,00', 'D', 1.75]\n",
            "Registro 1 arquivo 8 : ['18/02/2020', 'V', 'VISTA', 'MAGAZ LUIZ', 'ON ', '100', '58,70 ', '5.870,00', 'C', 1.81]\n",
            "Registro 1 arquivo 9 : ['17/09/2020', 'C', 'VISTA', 'BBSEGURIDADE', 'ON ', '100', '26,04 ', '2.604,00', 'D', 0.79]\n",
            "Registro 2 arquivo 9 : ['17/09/2020', 'C', 'VISTA', 'EMBRAER', 'ON ', '200', '6,94', '1.388,00', 'D', 0.42]\n",
            "Registro 3 arquivo 9 : ['17/09/2020', 'C', 'VISTA', 'ODONTOPREV', 'ON ', '100', '12,69 ', '1.269,00', 'D', 0.39]\n",
            "Registro 4 arquivo 9 : ['17/09/2020', 'V', 'VISTA', 'VIAVAREJO', 'ON ', '400', '17,97 ', '7.188,00', 'C', 2.19]\n",
            "Registro 5 arquivo 9 : ['17/09/2020', 'C', 'VISTA', 'WIZ S.A', 'ON ', '200', '9,71', '1.942,00', 'D', 0.59]\n",
            "Registro 1 arquivo 10 : ['12/02/2020', 'V', 'VISTA', 'NEOENERGIA', 'ON ', '300', '26,30 ', '7.890,00', 'C', 2.43]\n",
            "Registro 1 arquivo 11 : ['08/05/2020', 'C', 'VISTA', 'BRASIL', 'ON ', '100', '27,40 ', '2.740,00', 'D', 0.84]\n",
            "Registro 2 arquivo 11 : ['08/05/2020', 'V', 'VISTA', 'IMC S/', 'ON ', '500', '2,85', '1.425,00', 'C', 0.44]\n",
            "Registro 3 arquivo 11 : ['08/05/2020', 'V', 'VISTA', 'IMC S/', 'ON ', '500', '2,85', '1.425,00', 'C', 0.44]\n",
            "Registro 4 arquivo 11 : ['08/05/2020', 'C', 'VISTA', 'ITAUSA', 'PN ', '100', '8,65', '865,00', 'D', 0.27]\n",
            "Registro 5 arquivo 11 : ['08/05/2020', 'C', 'VISTA', 'QUALICORP', 'ON ', '100', '22,92 ', '2.292,00', 'D', 0.7]\n",
            "Registro 6 arquivo 11 : ['08/05/2020', 'V', 'VISTA', 'USIMINAS', 'PNA', '600', '4,80', '2.880,00', 'C', 0.88]\n",
            "Registro 1 arquivo 12 : ['18/03/2020', 'C', 'VISTA', 'CVC BRASI', 'ON ', '100', '6,80', '680,00', 'D', 0.2]\n",
            "Registro 1 arquivo 13 : ['26/11/2020', 'V', 'VISTA', 'AES TIET', 'E  ', '500', '3,19', '1.595,00', 'C', 0.49]\n",
            "Registro 2 arquivo 13 : ['26/11/2020', 'V', 'VISTA', 'AES TIET', 'E  ', '800', '3,19', '2.552,00', 'C', 0.78]\n",
            "Registro 3 arquivo 13 : ['26/11/2020', 'C', 'VISTA', 'ALUPAR', 'UNT', '100', '24,37 ', '2.437,00', 'D', 0.75]\n",
            "Registro 1 arquivo 14 : ['22/12/2020', 'V', 'VISTA', 'EMBRAER', 'ON ', '100', '8,49', '849,00', 'C', 0.26]\n",
            "Registro 2 arquivo 14 : ['22/12/2020', 'V', 'VISTA', 'EMBRAER', 'ON ', '100', '8,47', '847,00', 'C', 0.26]\n",
            "Registro 3 arquivo 14 : ['22/12/2020', 'C', 'VISTA', 'WIZ S.A', 'ON ', '200', '8,42', '1.684,00', 'D', 0.51]\n",
            "Registro 1 arquivo 15 : ['27/03/2020', 'C', 'VISTA', 'CENTAURO', 'ON ', '100', '27,90 ', '2.790,00', 'D', 0.85]\n",
            "Registro 2 arquivo 15 : ['27/03/2020', 'C', 'VISTA', 'USIMINAS', 'PNA', '100', '5,06', '506,00', 'D', 0.15]\n",
            "Registro 3 arquivo 15 : ['27/03/2020', 'C', 'VISTA', 'USIMINAS', 'PNA', '500', '5,06', '2.530,00', 'D', 0.77]\n",
            "Registro 4 arquivo 15 : ['27/03/2020', 'C', 'VISTA', 'WEG', 'ON ', '100', '35,52 ', '3.552,00', 'D', 1.09]\n",
            "Registro 1 arquivo 16 : ['25/03/2020', 'C', 'VISTA', 'PETROBRAS', 'PN ', '500', '13,32 ', '6.660,00', 'D', 2.04]\n",
            "Registro 2 arquivo 16 : ['25/03/2020', 'C', 'VISTA', 'TAESA', 'PN ', '200', '8,12', '1.624,00', 'D', 0.5]\n",
            "Registro 3 arquivo 16 : ['25/03/2020', 'C', 'VISTA', 'TAESA', 'PN ', '100', '8,12', '812,00', 'D', 0.25]\n",
            "Registro 1 arquivo 17 : ['02/06/2020', 'C', 'VISTA', 'AES TIET', 'E  ', '400', '2,69', '1.076,00', 'D', 0.33]\n",
            "Registro 2 arquivo 17 : ['02/06/2020', 'C', 'VISTA', 'AES TIET', 'E  ', '300', '2,71', '813,00', 'D', 0.25]\n",
            "Registro 3 arquivo 17 : ['02/06/2020', 'C', 'VISTA', 'BRADESCO', 'PN ', '100', '20,35 ', '2.035,00', 'D', 0.63]\n",
            "Registro 4 arquivo 17 : ['02/06/2020', 'C', 'VISTA', 'BRADESCO', 'PN ', '100', '20,25 ', '2.025,00', 'D', 0.62]\n",
            "Registro 5 arquivo 17 : ['02/06/2020', 'V', 'VISTA', 'CVC BRASI', 'ON ', '100', '17,05 ', '1.705,00', 'C', 0.52]\n",
            "Registro 6 arquivo 17 : ['02/06/2020', 'C', 'VISTA', 'ITAUSA', 'PN ', '100', '9,40', '940,00', 'D', 0.29]\n",
            "Registro 7 arquivo 17 : ['02/06/2020', 'C', 'VISTA', 'ITAUSA', 'PN ', '100', '9,36', '936,00', 'D', 0.29]\n",
            "Registro 8 arquivo 17 : ['02/06/2020', 'C', 'VISTA', 'ITAUSA', 'PN ', '100', '9,36', '936,00', 'D', 0.29]\n",
            "Registro 9 arquivo 17 : ['02/06/2020', 'C', 'VISTA', 'ITAUSA', 'PN ', '300', '9,29', '2.787,00', 'D', 0.86]\n",
            "Registro 10 arquivo 17 : ['02/06/2020', 'C', 'VISTA', 'JBS', 'ON ', '100', '21,72 ', '2.172,00', 'D', 0.67]\n",
            "Registro 11 arquivo 17 : ['02/06/2020', 'V', 'VISTA', 'NEOENERGIA', 'ON ', '100', '18,70 ', '1.870,00', 'C', 0.58]\n",
            "Registro 12 arquivo 17 : ['02/06/2020', 'C', 'VISTA', 'TAESA', 'PN ', '100', '9,76', '976,00', 'D', 0.3]\n",
            "Registro 13 arquivo 17 : ['02/06/2020', 'V', 'VISTA', 'VALE', 'ON ', '100', '53,22 ', '5.322,00', 'C', 1.64]\n",
            "Registro 14 arquivo 17 : ['02/06/2020', 'V', 'VISTA', 'VIAVAREJO', 'ON ', '400', '14,11 ', '5.644,00', 'C', 1.74]\n",
            "Registro 1 arquivo 18 : ['09/03/2020', 'V', 'VISTA', 'ITAUSA', 'PN ', '300', '10,85 ', '3.255,00', 'C', 1.0]\n",
            "Registro 2 arquivo 18 : ['09/03/2020', 'C', 'VISTA', 'PETROBRAS', 'PN ', '300', '18,00 ', '5.400,00', 'D', 1.66]\n",
            "Registro 3 arquivo 18 : ['09/03/2020', 'C', 'VISTA', 'SID NACIONA', 'ON ', '300', '9,96', '2.988,00', 'D', 0.92]\n",
            "Registro 1 arquivo 19 : ['04/09/2020', 'C', 'VISTA', 'WIZ S.A', 'ON ', '100', '10,67 ', '1.067,00', 'D', 0.32]\n",
            "Registro 1 arquivo 20 : ['20/04/2020', 'C', 'VISTA', 'BRADESCO', 'PN ', '100', '19,84 ', '1.984,00', 'D', 0.6]\n",
            "Registro 2 arquivo 20 : ['20/04/2020', 'V', 'VISTA', 'CENTAURO', 'ON ', '100', '26,23 ', '2.623,00', 'C', 0.8]\n",
            "Registro 3 arquivo 20 : ['20/04/2020', 'C', 'VISTA', 'ITAUSA', 'PN ', '100', '9,00', '900,00', 'D', 0.27]\n",
            "Registro 1 arquivo 21 : ['24/03/2020', 'V', 'VISTA', 'BRASIL', 'ON ', '100', '24,77 ', '2.477,00', 'C', 0.76]\n",
            "Registro 2 arquivo 21 : ['24/03/2020', 'V', 'VISTA', 'CENTAURO', 'ON ', '100', '23,50 ', '2.350,00', 'C', 0.72]\n",
            "Registro 3 arquivo 21 : ['24/03/2020', 'V', 'VISTA', 'CYRELA REAL', 'ON ', '100', '14,52 ', '1.452,00', 'C', 0.45]\n",
            "Registro 4 arquivo 21 : ['24/03/2020', 'V', 'VISTA', 'CYRELA REAL', 'ON ', '100', '14,52 ', '1.452,00', 'C', 0.45]\n",
            "Registro 5 arquivo 21 : ['24/03/2020', 'V', 'VISTA', 'ISHARES BOV', 'CI ', '6', '68,80 ', '4.128,00', 'C', 1.27]\n",
            "Registro 6 arquivo 21 : ['24/03/2020', 'V', 'VISTA', 'PETROBRAS', 'PN ', '500', '13,42 ', '6.710,00', 'C', 2.06]\n",
            "Registro 1 arquivo 22 : ['30/04/2020', 'V', 'VISTA', 'PETROBRAS', 'PN ', '300', '18,00 ', '5.400,00', 'C', 1.64]\n",
            "Registro 1 arquivo 23 : ['03/04/2020', 'C', 'VISTA', 'USIMINAS', 'PNA', '200', '4,22', '844,00', 'D', 0.21]\n",
            "Registro 2 arquivo 23 : ['03/04/2020', 'V', 'VISTA', 'USIMINAS', 'PNA', '200', '4,22', '844,00', 'C', 0.21]\n",
            "Registro 3 arquivo 23 : ['03/04/2020', 'C', 'VISTA', 'VIAVAREJO', 'ON ', '200', '4,15', '830,00', 'D', 0.2]\n",
            "Registro 1 arquivo 24 : ['25/05/2020', 'C', 'VISTA', 'AES TIET', 'E  ', '500', '2,68', '1.340,00', 'D', 0.41]\n",
            "Registro 2 arquivo 24 : ['25/05/2020', 'V', 'VISTA', 'CENTAURO', 'ON ', '100', '26,90 ', '2.690,00', 'C', 0.83]\n",
            "Registro 3 arquivo 24 : ['25/05/2020', 'V', 'VISTA', 'CENTAURO', 'ON ', '100', '26,90 ', '2.690,00', 'C', 0.83]\n",
            "Registro 4 arquivo 24 : ['25/05/2020', 'C', 'VISTA', 'JBS', 'ON ', '100', '20,74 ', '2.074,00', 'D', 0.64]\n",
            "Registro 5 arquivo 24 : ['25/05/2020', 'C', 'VISTA', 'TAESA', 'PN ', '200', '9,52', '1.904,00', 'D', 0.59]\n",
            "Registro 1 arquivo 25 : ['19/05/2020', 'C', 'VISTA', 'ITAUSA', 'PN ', '100', '8,35', '835,00', 'D', 0.25]\n",
            "Registro 2 arquivo 25 : ['19/05/2020', 'C', 'VISTA', 'JBS', 'ON ', '100', '21,79 ', '2.179,00', 'D', 0.67]\n",
            "Registro 1 arquivo 26 : ['13/07/2020', 'V', 'VISTA', 'BANCO PA', 'PN ', '300', '10,28 ', '3.084,00', 'C', 0.94]\n",
            "Registro 2 arquivo 26 : ['13/07/2020', 'V', 'VISTA', 'BANCO PA', 'PN ', '200', '10,28 ', '2.056,00', 'C', 0.62]\n",
            "Registro 1 arquivo 27 : ['13/02/2020', 'C', 'VISTA', 'BANCO PA', 'PN ', '300', '10,41 ', '3.123,00', 'D', 0.97]\n",
            "Registro 2 arquivo 27 : ['13/02/2020', 'C', 'VISTA', 'BANCO PA', 'PN ', '100', '10,41 ', '1.041,00', 'D', 0.32]\n",
            "Registro 3 arquivo 27 : ['13/02/2020', 'C', 'VISTA', 'BANCO PA', 'PN ', '100', '10,41 ', '1.041,00', 'D', 0.32]\n",
            "Registro 4 arquivo 27 : ['13/02/2020', 'C', 'VISTA', 'BRADESCO', 'PN ', '100', '33,58 ', '3.358,00', 'D', 1.04]\n",
            "Registro 5 arquivo 27 : ['13/02/2020', 'C', 'VISTA', 'ITAUSA', 'PN ', '300', '13,29 ', '3.987,00', 'D', 1.23]\n",
            "Registro 6 arquivo 27 : ['13/02/2020', 'V', 'VISTA', 'USIMINAS', 'PNA', '500', '9,82', '4.910,00', 'C', 1.52]\n",
            "Registro 1 arquivo 28 : ['29/09/2020', 'C', 'VISTA', 'AES TIET', 'E  ', '100', '2,93', '293,00', 'D', 0.08]\n",
            "Registro 1 arquivo 29 : ['13/03/2020', 'C', 'VISTA', 'PETROBRAS', 'PN ', '200', '13,69 ', '2.738,00', 'D', 0.83]\n",
            "Registro 1 arquivo 30 : ['01/07/2020', 'V', 'VISTA', 'JBS', 'ON ', '100', '21,42 ', '2.142,00', 'C', 0.65]\n",
            "Registro 2 arquivo 30 : ['01/07/2020', 'C', 'VISTA', 'TAESA', 'PN ', '100', '9,63', '963,00', 'D', 0.29]\n",
            "Registro 3 arquivo 30 : ['01/07/2020', 'C', 'VISTA', 'TAESA', 'PN ', '100', '9,61', '961,00', 'D', 0.29]\n",
            "Registro 1 arquivo 31 : ['16/01/2020', 'V', 'VISTA', 'PETROBRAS', 'PN ', '100', '29,47 ', '2.947,00', 'C', 0.91]\n",
            "Registro 2 arquivo 31 : ['16/01/2020', 'V', 'VISTA', 'SANTOS BR', 'ON ', '300', '8,18', '2.454,00', 'C', 0.76]\n",
            "Registro 3 arquivo 31 : ['16/01/2020', 'C', 'VISTA', 'USIMINAS', 'PNA', '500', '9,77', '4.885,00', 'D', 1.51]\n",
            "Registro 1 arquivo 32 : ['15/07/2020', 'C', 'VISTA', 'BBSEGURIDADE', 'ON ', '100', '27,61 ', '2.761,00', 'D', 0.84]\n",
            "Registro 2 arquivo 32 : ['15/07/2020', 'C', 'VISTA', 'ENGIE BRASI', 'ON ', '100', '43,48 ', '4.348,00', 'D', 1.33]\n",
            "Registro 3 arquivo 32 : ['15/07/2020', 'V', 'VISTA', 'QUALICORP', 'ON ', '100', '29,54 ', '2.954,00', 'C', 0.9]\n",
            "Registro 4 arquivo 32 : ['15/07/2020', 'C', 'VISTA', 'TAESA', 'PN ', '100', '9,50', '950,00', 'D', 0.29]\n",
            "Registro 1 arquivo 33 : ['17/03/2020', 'C', 'VISTA', 'BRADESCO', 'PN ', '100', '23,50 ', '2.350,00', 'D', 0.55]\n",
            "Registro 2 arquivo 33 : ['17/03/2020', 'V', 'VISTA', 'BRADESCO', 'PN ', '100', '24,15 ', '2.415,00', 'C', 0.56]\n",
            "Registro 3 arquivo 33 : ['17/03/2020', 'C', 'VISTA', 'VALE', 'ON ', '100', '41,36 ', '4.136,00', 'D', 0.96]\n",
            "Registro 4 arquivo 33 : ['17/03/2020', 'V', 'VISTA', 'VALE', 'ON ', '100', '42,50 ', '4.250,00', 'C', 0.99]\n",
            "Registro 1 arquivo 34 : ['11/05/2020', 'C', 'VISTA', 'ITAUSA', 'PN ', '100', '8,63', '863,00', 'D', 0.25]\n",
            "Registro 1 arquivo 35 : ['03/12/2020', 'C', 'VISTA', 'HYPERA', 'ON ', '100', '31,52 ', '3.152,00', 'D', 1.04]\n",
            "Registro 2 arquivo 35 : ['03/12/2020', 'V', 'VISTA', 'ISHARE SP50', 'CI ', '', '205,45 2', '205,45', 'C', 0.07]\n",
            "Registro 3 arquivo 35 : ['03/12/2020', 'V', 'VISTA', 'ISHARE SP50', 'CI ', '', '205,35 2', '205,35', 'C', 0.07]\n",
            "Registro 4 arquivo 35 : ['03/12/2020', 'V', 'VISTA', 'ISHARE SP50', 'CI ', '', '205,31 1', '1.231,86', 'C', 0.41]\n",
            "Registro 5 arquivo 35 : ['03/12/2020', 'V', 'VISTA', 'ISHARE SP50', 'CI ', '1', '205,32 2', '2.053,20', 'C', 0.68]\n",
            "Registro 6 arquivo 35 : ['03/12/2020', 'V', 'VISTA', 'ISHARE SP50', 'CI ', '', '205,33 4', '410,66', 'C', 0.14]\n",
            "Registro 1 arquivo 36 : ['14/12/2020', 'C', 'VISTA', 'ALUPAR', 'UNT', '100', '26,81 ', '2.681,00', 'D', 0.82]\n",
            "Registro 2 arquivo 36 : ['14/12/2020', 'C', 'VISTA', 'HYPERA', 'ON ', '100', '32,60 ', '3.260,00', 'D', 0.99]\n",
            "Registro 3 arquivo 36 : ['14/12/2020', 'C', 'VISTA', 'ODONTOPREV', 'ON ', '100', '13,90 ', '1.390,00', 'D', 0.42]\n",
            "Registro 4 arquivo 36 : ['14/12/2020', 'V', 'VISTA', 'PETROBRAS', 'PN ', '300', '28,07 ', '8.421,00', 'C', 2.57]\n",
            "Registro 5 arquivo 36 : ['14/12/2020', 'C', 'VISTA', 'WIZ S.A', 'ON ', '200', '9,31', '1.862,00', 'D', 0.57]\n",
            "Registro 1 arquivo 37 : ['26/02/2020', 'C', 'VISTA', 'BRASIL', 'ON ', '100', '46,10 ', '4.610,00', 'D', 1.41]\n",
            "Registro 1 arquivo 38 : ['07/04/2020', 'C', 'VISTA', 'NEOENERGIA', 'ON ', '100', '16,44 ', '1.644,00', 'D', 0.5]\n",
            "Registro 2 arquivo 38 : ['07/04/2020', 'V', 'VISTA', 'WEG', 'ON ', '100', '35,55 ', '3.555,00', 'C', 1.07]\n",
            "Registro 1 arquivo 39 : ['04/05/2020', 'C', 'VISTA', 'PETROBRAS', 'PN ', '200', '17,34 ', '3.468,00', 'D', 1.05]\n",
            "Registro 2 arquivo 39 : ['04/05/2020', 'C', 'VISTA', 'PETROBRAS', 'PN ', '100', '17,32 ', '1.732,00', 'D', 0.53]\n",
            "Registro 1 arquivo 40 : ['04/02/2020', 'C', 'VISTA', 'CYRELA REAL', 'ON ', '200', '32,98 ', '6.596,00', 'D', 2.03]\n",
            "Registro 1 arquivo 41 : ['20/03/2020', 'C', 'VISTA', 'PETROBRAS', 'PN ', '500', '12,05 ', '6.025,00', 'D', 1.85]\n",
            "Registro 2 arquivo 41 : ['20/03/2020', 'C', 'VISTA', 'VIAVAREJO', 'ON ', '200', '5,40', '1.080,00', 'D', 0.33]\n",
            "Registro 1 arquivo 42 : ['05/10/2020', 'C', 'VISTA', 'WIZ S.A', 'ON ', '100', '9,20', '920,00', 'D', 0.27]\n",
            "Registro 1 arquivo 43 : ['02/04/2020', 'C', 'VISTA', 'CENTAURO', 'ON ', '100', '20,68 ', '2.068,00', 'D', 0.62]\n"
          ],
          "name": "stdout"
        }
      ]
    },
    {
      "cell_type": "markdown",
      "metadata": {
        "id": "dLqGKkxm6jwl"
      },
      "source": [
        "A base se encontrará abaixo:"
      ]
    },
    {
      "cell_type": "code",
      "metadata": {
        "id": "cCMNLk3q6i4d",
        "colab": {
          "base_uri": "https://localhost:8080/"
        },
        "outputId": "529b0efe-bcf9-4a98-d24a-58d4c2885cae"
      },
      "source": [
        "#print('Base atual:' , base_atual)\r\n",
        "print('Base atual:' , base_atual)"
      ],
      "execution_count": 10,
      "outputs": [
        {
          "output_type": "stream",
          "text": [
            "Base atual: [['01/04/2020', 'C', 'VISTA', 'CENTAURO', 'ON ', '100', '21,74 ', '2.174,00', 'D', 0.67], ['01/04/2020', 'V', 'VISTA', 'TAESA', 'PN ', '300', '8,21', '2.463,00', 'C', 0.76], ['01/04/2020', 'C', 'VISTA', 'VIAVAREJO', 'ON ', '100', '4,66', '466,00', 'D', 0.14], ['19/03/2020', 'V', 'VISTA', 'PETROBRAS', 'PN ', '500', '12,32 ', '6.160,00', 'C', 1.89], ['15/01/2020', 'C', 'VISTA', 'SANTOS BR', 'ON ', '300', '8,36', '2.508,00', 'D', 0.77], ['10/06/2020', 'V', 'VISTA', 'SID NACIONA', 'ON ', '100', '11,80 ', '1.180,00', 'C', 0.36], ['10/06/2020', 'V', 'VISTA', 'SID NACIONA', 'ON ', '200', '11,80 ', '2.360,00', 'C', 0.72], ['11/11/2020', 'C', 'VISTA', 'ISHARE SP50', 'CI ', '1', '207,86 2', '2.078,60', 'D', 0.64], ['11/11/2020', 'C', 'VISTA', 'ISHARE SP50', 'CI ', '1', '207,86 2', '2.078,60', 'D', 0.64], ['11/11/2020', 'V', 'VISTA', 'JBS', 'ON ', '200', '21,15 ', '4.230,00', 'C', 1.3], ['15/04/2020', 'C', 'VISTA', 'IMC S/', 'ON ', '1.000 2', '2,73', '2.730,00', 'D', 0.83], ['16/09/2020', 'V', 'VISTA', 'TAESA', 'PN ', '100', '9,57', '957,00', 'C', 0.29], ['16/09/2020', 'V', 'VISTA', 'TAESA', 'PN ', '100', '9,57', '957,00', 'C', 0.29], ['16/09/2020', 'V', 'VISTA', 'TAESA', 'PN ', '200', '9,57', '1.914,00', 'C', 0.58], ['16/09/2020', 'V', 'VISTA', 'TAESA', 'PN ', '200', '9,57', '1.914,00', 'C', 0.58], ['16/09/2020', 'C', 'VISTA', 'TAESA', 'UNT', '200', '28,69 ', '5.738,00', 'D', 1.75], ['18/02/2020', 'V', 'VISTA', 'MAGAZ LUIZ', 'ON ', '100', '58,70 ', '5.870,00', 'C', 1.81], ['17/09/2020', 'C', 'VISTA', 'BBSEGURIDADE', 'ON ', '100', '26,04 ', '2.604,00', 'D', 0.79], ['17/09/2020', 'C', 'VISTA', 'EMBRAER', 'ON ', '200', '6,94', '1.388,00', 'D', 0.42], ['17/09/2020', 'C', 'VISTA', 'ODONTOPREV', 'ON ', '100', '12,69 ', '1.269,00', 'D', 0.39], ['17/09/2020', 'V', 'VISTA', 'VIAVAREJO', 'ON ', '400', '17,97 ', '7.188,00', 'C', 2.19], ['17/09/2020', 'C', 'VISTA', 'WIZ S.A', 'ON ', '200', '9,71', '1.942,00', 'D', 0.59], ['12/02/2020', 'V', 'VISTA', 'NEOENERGIA', 'ON ', '300', '26,30 ', '7.890,00', 'C', 2.43], ['08/05/2020', 'C', 'VISTA', 'BRASIL', 'ON ', '100', '27,40 ', '2.740,00', 'D', 0.84], ['08/05/2020', 'V', 'VISTA', 'IMC S/', 'ON ', '500', '2,85', '1.425,00', 'C', 0.44], ['08/05/2020', 'V', 'VISTA', 'IMC S/', 'ON ', '500', '2,85', '1.425,00', 'C', 0.44], ['08/05/2020', 'C', 'VISTA', 'ITAUSA', 'PN ', '100', '8,65', '865,00', 'D', 0.27], ['08/05/2020', 'C', 'VISTA', 'QUALICORP', 'ON ', '100', '22,92 ', '2.292,00', 'D', 0.7], ['08/05/2020', 'V', 'VISTA', 'USIMINAS', 'PNA', '600', '4,80', '2.880,00', 'C', 0.88], ['18/03/2020', 'C', 'VISTA', 'CVC BRASI', 'ON ', '100', '6,80', '680,00', 'D', 0.2], ['26/11/2020', 'V', 'VISTA', 'AES TIET', 'E  ', '500', '3,19', '1.595,00', 'C', 0.49], ['26/11/2020', 'V', 'VISTA', 'AES TIET', 'E  ', '800', '3,19', '2.552,00', 'C', 0.78], ['26/11/2020', 'C', 'VISTA', 'ALUPAR', 'UNT', '100', '24,37 ', '2.437,00', 'D', 0.75], ['22/12/2020', 'V', 'VISTA', 'EMBRAER', 'ON ', '100', '8,49', '849,00', 'C', 0.26], ['22/12/2020', 'V', 'VISTA', 'EMBRAER', 'ON ', '100', '8,47', '847,00', 'C', 0.26], ['22/12/2020', 'C', 'VISTA', 'WIZ S.A', 'ON ', '200', '8,42', '1.684,00', 'D', 0.51], ['27/03/2020', 'C', 'VISTA', 'CENTAURO', 'ON ', '100', '27,90 ', '2.790,00', 'D', 0.85], ['27/03/2020', 'C', 'VISTA', 'USIMINAS', 'PNA', '100', '5,06', '506,00', 'D', 0.15], ['27/03/2020', 'C', 'VISTA', 'USIMINAS', 'PNA', '500', '5,06', '2.530,00', 'D', 0.77], ['27/03/2020', 'C', 'VISTA', 'WEG', 'ON ', '100', '35,52 ', '3.552,00', 'D', 1.09], ['25/03/2020', 'C', 'VISTA', 'PETROBRAS', 'PN ', '500', '13,32 ', '6.660,00', 'D', 2.04], ['25/03/2020', 'C', 'VISTA', 'TAESA', 'PN ', '200', '8,12', '1.624,00', 'D', 0.5], ['25/03/2020', 'C', 'VISTA', 'TAESA', 'PN ', '100', '8,12', '812,00', 'D', 0.25], ['02/06/2020', 'C', 'VISTA', 'AES TIET', 'E  ', '400', '2,69', '1.076,00', 'D', 0.33], ['02/06/2020', 'C', 'VISTA', 'AES TIET', 'E  ', '300', '2,71', '813,00', 'D', 0.25], ['02/06/2020', 'C', 'VISTA', 'BRADESCO', 'PN ', '100', '20,35 ', '2.035,00', 'D', 0.63], ['02/06/2020', 'C', 'VISTA', 'BRADESCO', 'PN ', '100', '20,25 ', '2.025,00', 'D', 0.62], ['02/06/2020', 'V', 'VISTA', 'CVC BRASI', 'ON ', '100', '17,05 ', '1.705,00', 'C', 0.52], ['02/06/2020', 'C', 'VISTA', 'ITAUSA', 'PN ', '100', '9,40', '940,00', 'D', 0.29], ['02/06/2020', 'C', 'VISTA', 'ITAUSA', 'PN ', '100', '9,36', '936,00', 'D', 0.29], ['02/06/2020', 'C', 'VISTA', 'ITAUSA', 'PN ', '100', '9,36', '936,00', 'D', 0.29], ['02/06/2020', 'C', 'VISTA', 'ITAUSA', 'PN ', '300', '9,29', '2.787,00', 'D', 0.86], ['02/06/2020', 'C', 'VISTA', 'JBS', 'ON ', '100', '21,72 ', '2.172,00', 'D', 0.67], ['02/06/2020', 'V', 'VISTA', 'NEOENERGIA', 'ON ', '100', '18,70 ', '1.870,00', 'C', 0.58], ['02/06/2020', 'C', 'VISTA', 'TAESA', 'PN ', '100', '9,76', '976,00', 'D', 0.3], ['02/06/2020', 'V', 'VISTA', 'VALE', 'ON ', '100', '53,22 ', '5.322,00', 'C', 1.64], ['02/06/2020', 'V', 'VISTA', 'VIAVAREJO', 'ON ', '400', '14,11 ', '5.644,00', 'C', 1.74], ['09/03/2020', 'V', 'VISTA', 'ITAUSA', 'PN ', '300', '10,85 ', '3.255,00', 'C', 1.0], ['09/03/2020', 'C', 'VISTA', 'PETROBRAS', 'PN ', '300', '18,00 ', '5.400,00', 'D', 1.66], ['09/03/2020', 'C', 'VISTA', 'SID NACIONA', 'ON ', '300', '9,96', '2.988,00', 'D', 0.92], ['04/09/2020', 'C', 'VISTA', 'WIZ S.A', 'ON ', '100', '10,67 ', '1.067,00', 'D', 0.32], ['20/04/2020', 'C', 'VISTA', 'BRADESCO', 'PN ', '100', '19,84 ', '1.984,00', 'D', 0.6], ['20/04/2020', 'V', 'VISTA', 'CENTAURO', 'ON ', '100', '26,23 ', '2.623,00', 'C', 0.8], ['20/04/2020', 'C', 'VISTA', 'ITAUSA', 'PN ', '100', '9,00', '900,00', 'D', 0.27], ['24/03/2020', 'V', 'VISTA', 'BRASIL', 'ON ', '100', '24,77 ', '2.477,00', 'C', 0.76], ['24/03/2020', 'V', 'VISTA', 'CENTAURO', 'ON ', '100', '23,50 ', '2.350,00', 'C', 0.72], ['24/03/2020', 'V', 'VISTA', 'CYRELA REAL', 'ON ', '100', '14,52 ', '1.452,00', 'C', 0.45], ['24/03/2020', 'V', 'VISTA', 'CYRELA REAL', 'ON ', '100', '14,52 ', '1.452,00', 'C', 0.45], ['24/03/2020', 'V', 'VISTA', 'ISHARES BOV', 'CI ', '6', '68,80 ', '4.128,00', 'C', 1.27], ['24/03/2020', 'V', 'VISTA', 'PETROBRAS', 'PN ', '500', '13,42 ', '6.710,00', 'C', 2.06], ['30/04/2020', 'V', 'VISTA', 'PETROBRAS', 'PN ', '300', '18,00 ', '5.400,00', 'C', 1.64], ['03/04/2020', 'C', 'VISTA', 'USIMINAS', 'PNA', '200', '4,22', '844,00', 'D', 0.21], ['03/04/2020', 'V', 'VISTA', 'USIMINAS', 'PNA', '200', '4,22', '844,00', 'C', 0.21], ['03/04/2020', 'C', 'VISTA', 'VIAVAREJO', 'ON ', '200', '4,15', '830,00', 'D', 0.2], ['25/05/2020', 'C', 'VISTA', 'AES TIET', 'E  ', '500', '2,68', '1.340,00', 'D', 0.41], ['25/05/2020', 'V', 'VISTA', 'CENTAURO', 'ON ', '100', '26,90 ', '2.690,00', 'C', 0.83], ['25/05/2020', 'V', 'VISTA', 'CENTAURO', 'ON ', '100', '26,90 ', '2.690,00', 'C', 0.83], ['25/05/2020', 'C', 'VISTA', 'JBS', 'ON ', '100', '20,74 ', '2.074,00', 'D', 0.64], ['25/05/2020', 'C', 'VISTA', 'TAESA', 'PN ', '200', '9,52', '1.904,00', 'D', 0.59], ['19/05/2020', 'C', 'VISTA', 'ITAUSA', 'PN ', '100', '8,35', '835,00', 'D', 0.25], ['19/05/2020', 'C', 'VISTA', 'JBS', 'ON ', '100', '21,79 ', '2.179,00', 'D', 0.67], ['13/07/2020', 'V', 'VISTA', 'BANCO PA', 'PN ', '300', '10,28 ', '3.084,00', 'C', 0.94], ['13/07/2020', 'V', 'VISTA', 'BANCO PA', 'PN ', '200', '10,28 ', '2.056,00', 'C', 0.62], ['13/02/2020', 'C', 'VISTA', 'BANCO PA', 'PN ', '300', '10,41 ', '3.123,00', 'D', 0.97], ['13/02/2020', 'C', 'VISTA', 'BANCO PA', 'PN ', '100', '10,41 ', '1.041,00', 'D', 0.32], ['13/02/2020', 'C', 'VISTA', 'BANCO PA', 'PN ', '100', '10,41 ', '1.041,00', 'D', 0.32], ['13/02/2020', 'C', 'VISTA', 'BRADESCO', 'PN ', '100', '33,58 ', '3.358,00', 'D', 1.04], ['13/02/2020', 'C', 'VISTA', 'ITAUSA', 'PN ', '300', '13,29 ', '3.987,00', 'D', 1.23], ['13/02/2020', 'V', 'VISTA', 'USIMINAS', 'PNA', '500', '9,82', '4.910,00', 'C', 1.52], ['29/09/2020', 'C', 'VISTA', 'AES TIET', 'E  ', '100', '2,93', '293,00', 'D', 0.08], ['13/03/2020', 'C', 'VISTA', 'PETROBRAS', 'PN ', '200', '13,69 ', '2.738,00', 'D', 0.83], ['01/07/2020', 'V', 'VISTA', 'JBS', 'ON ', '100', '21,42 ', '2.142,00', 'C', 0.65], ['01/07/2020', 'C', 'VISTA', 'TAESA', 'PN ', '100', '9,63', '963,00', 'D', 0.29], ['01/07/2020', 'C', 'VISTA', 'TAESA', 'PN ', '100', '9,61', '961,00', 'D', 0.29], ['16/01/2020', 'V', 'VISTA', 'PETROBRAS', 'PN ', '100', '29,47 ', '2.947,00', 'C', 0.91], ['16/01/2020', 'V', 'VISTA', 'SANTOS BR', 'ON ', '300', '8,18', '2.454,00', 'C', 0.76], ['16/01/2020', 'C', 'VISTA', 'USIMINAS', 'PNA', '500', '9,77', '4.885,00', 'D', 1.51], ['15/07/2020', 'C', 'VISTA', 'BBSEGURIDADE', 'ON ', '100', '27,61 ', '2.761,00', 'D', 0.84], ['15/07/2020', 'C', 'VISTA', 'ENGIE BRASI', 'ON ', '100', '43,48 ', '4.348,00', 'D', 1.33], ['15/07/2020', 'V', 'VISTA', 'QUALICORP', 'ON ', '100', '29,54 ', '2.954,00', 'C', 0.9], ['15/07/2020', 'C', 'VISTA', 'TAESA', 'PN ', '100', '9,50', '950,00', 'D', 0.29], ['17/03/2020', 'C', 'VISTA', 'BRADESCO', 'PN ', '100', '23,50 ', '2.350,00', 'D', 0.55], ['17/03/2020', 'V', 'VISTA', 'BRADESCO', 'PN ', '100', '24,15 ', '2.415,00', 'C', 0.56], ['17/03/2020', 'C', 'VISTA', 'VALE', 'ON ', '100', '41,36 ', '4.136,00', 'D', 0.96], ['17/03/2020', 'V', 'VISTA', 'VALE', 'ON ', '100', '42,50 ', '4.250,00', 'C', 0.99], ['11/05/2020', 'C', 'VISTA', 'ITAUSA', 'PN ', '100', '8,63', '863,00', 'D', 0.25], ['03/12/2020', 'C', 'VISTA', 'HYPERA', 'ON ', '100', '31,52 ', '3.152,00', 'D', 1.04], ['03/12/2020', 'V', 'VISTA', 'ISHARE SP50', 'CI ', '', '205,45 2', '205,45', 'C', 0.07], ['03/12/2020', 'V', 'VISTA', 'ISHARE SP50', 'CI ', '', '205,35 2', '205,35', 'C', 0.07], ['03/12/2020', 'V', 'VISTA', 'ISHARE SP50', 'CI ', '', '205,31 1', '1.231,86', 'C', 0.41], ['03/12/2020', 'V', 'VISTA', 'ISHARE SP50', 'CI ', '1', '205,32 2', '2.053,20', 'C', 0.68], ['03/12/2020', 'V', 'VISTA', 'ISHARE SP50', 'CI ', '', '205,33 4', '410,66', 'C', 0.14], ['14/12/2020', 'C', 'VISTA', 'ALUPAR', 'UNT', '100', '26,81 ', '2.681,00', 'D', 0.82], ['14/12/2020', 'C', 'VISTA', 'HYPERA', 'ON ', '100', '32,60 ', '3.260,00', 'D', 0.99], ['14/12/2020', 'C', 'VISTA', 'ODONTOPREV', 'ON ', '100', '13,90 ', '1.390,00', 'D', 0.42], ['14/12/2020', 'V', 'VISTA', 'PETROBRAS', 'PN ', '300', '28,07 ', '8.421,00', 'C', 2.57], ['14/12/2020', 'C', 'VISTA', 'WIZ S.A', 'ON ', '200', '9,31', '1.862,00', 'D', 0.57], ['26/02/2020', 'C', 'VISTA', 'BRASIL', 'ON ', '100', '46,10 ', '4.610,00', 'D', 1.41], ['07/04/2020', 'C', 'VISTA', 'NEOENERGIA', 'ON ', '100', '16,44 ', '1.644,00', 'D', 0.5], ['07/04/2020', 'V', 'VISTA', 'WEG', 'ON ', '100', '35,55 ', '3.555,00', 'C', 1.07], ['04/05/2020', 'C', 'VISTA', 'PETROBRAS', 'PN ', '200', '17,34 ', '3.468,00', 'D', 1.05], ['04/05/2020', 'C', 'VISTA', 'PETROBRAS', 'PN ', '100', '17,32 ', '1.732,00', 'D', 0.53], ['04/02/2020', 'C', 'VISTA', 'CYRELA REAL', 'ON ', '200', '32,98 ', '6.596,00', 'D', 2.03], ['20/03/2020', 'C', 'VISTA', 'PETROBRAS', 'PN ', '500', '12,05 ', '6.025,00', 'D', 1.85], ['20/03/2020', 'C', 'VISTA', 'VIAVAREJO', 'ON ', '200', '5,40', '1.080,00', 'D', 0.33], ['05/10/2020', 'C', 'VISTA', 'WIZ S.A', 'ON ', '100', '9,20', '920,00', 'D', 0.27], ['02/04/2020', 'C', 'VISTA', 'CENTAURO', 'ON ', '100', '20,68 ', '2.068,00', 'D', 0.62]]\n"
          ],
          "name": "stdout"
        }
      ]
    },
    {
      "cell_type": "markdown",
      "metadata": {
        "id": "bAfSn-xEGq2b"
      },
      "source": [
        "##**Exportar a base para o Excel**\r\n",
        "\r\n",
        "A base será exportada via pandas para o arquivo \"Operações realizadas\". Desse modo, o arquivo estará pronto para **validação** entre cada um de seus registros e as Notas de Corretagem."
      ]
    },
    {
      "cell_type": "code",
      "metadata": {
        "id": "OeT93yg6B7LT"
      },
      "source": [
        "import pandas as pd\r\n",
        "\r\n",
        "df = pd.DataFrame(base_atual)\r\n",
        "df.to_excel(excel_writer = \"Operações realizadas.xlsx\")"
      ],
      "execution_count": 11,
      "outputs": []
    }
  ]
}